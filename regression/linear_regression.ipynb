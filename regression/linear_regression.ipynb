{
 "cells": [
  {
   "cell_type": "markdown",
   "metadata": {},
   "source": [
    "# Linear Regression\n",
    "\n",
    "\n",
    "The linear model assumes that the relationship between input and output is linear, or that the linear model is a reasonable approximation.\n",
    "\n",
    "For p number of features, an output y can be predicted using a linear model:\n",
    "\n",
    "$$\\hat{y} = \\hat{\\beta_0} + \\sum_{j=1}^{p} x_j \\hat{\\beta_j}$$ \n",
    "\n",
    "where $\\hat{\\beta_0}$ is bias or intercept and the $\\beta_j$s are unknown parameters or coefficients.\n",
    "\n",
    "To represent the above equation in vector form, for **a single** training example:\n",
    "\n",
    "$$\\hat{y} = \\hat{\\beta_0} +\n",
    "            \\begin{bmatrix}\n",
    "               x_{1} &\n",
    "               x_{2} &\n",
    "               ... &\n",
    "               x_{p}\n",
    "            \\end{bmatrix}\n",
    "            \\begin{bmatrix}\n",
    "                \\hat{\\beta_1}\\\\\n",
    "                \\hat{\\beta_2}\\\\\n",
    "                \\vdots \\\\\n",
    "                \\hat{\\beta_p}\n",
    "            \\end{bmatrix}$$ \n",
    "\n",
    "\n",
    "The bias term $\\hat{\\beta_0}$ can conveniently incorporated by including constant 1 into matrix x, such that:\n",
    "\n",
    "$$\n",
    "\\begin{align}\n",
    "x^T &= \\begin{bmatrix}\n",
    "       x_{1} &\n",
    "       x_{2} &\n",
    "       ... &\n",
    "       x_{p}\n",
    "     \\end{bmatrix}\n",
    "\\end{align}\n",
    "$$\n",
    "\n",
    "$$\n",
    "\\begin{align}\n",
    "x^T &= \\begin{bmatrix}\n",
    "       1 &\n",
    "       x_{1} &\n",
    "       x_{2} &\n",
    "       ... &\n",
    "       x_{p}\n",
    "     \\end{bmatrix}\n",
    "\\end{align}\n",
    "$$\n",
    "\n",
    "$\\hat{\\beta_0}$ bias can be included into the vector of coefficients $\\hat{\\beta}$ to form:\n",
    "\n",
    "$$\n",
    "\\begin{equation*} \n",
    "    \\hat{\\beta} = \\begin{bmatrix}\n",
    "                    \\hat{\\beta_0}\\\\\n",
    "                    \\hat{\\beta_1}\\\\\n",
    "                    \\hat{\\beta_2}\\\\\n",
    "                    \\vdots \\\\\n",
    "                    \\hat{\\beta_p}\n",
    "                   \\end{bmatrix}\n",
    "\\end{equation*}\n",
    "$$\n",
    "\n",
    "$$\\therefore\\hat{y} = \\begin{bmatrix}\n",
    "               1 &\n",
    "               x_{1} &\n",
    "               x_{2} &\n",
    "               ... &\n",
    "               x_{p}\n",
    "             \\end{bmatrix}\n",
    "            \\begin{bmatrix}\n",
    "                \\hat{\\beta_0}\\\\\n",
    "                \\hat{\\beta_1}\\\\\n",
    "                \\hat{\\beta_2}\\\\\n",
    "                \\vdots \\\\\n",
    "                \\hat{\\beta_p}\n",
    "            \\end{bmatrix}$$ \n",
    " \n",
    "\n",
    "\n",
    "For an entire training set of **N** training examples:\n",
    "\n",
    "$$ \\begin{bmatrix}\n",
    "       \\hat{y_{0}} \\\\\n",
    "       \\hat{y_{1}} \\\\\n",
    "       \\hat{y_{2}} \\\\\n",
    "       \\vdots \\\\\n",
    "       \\hat{y_{n}}\n",
    "   \\end{bmatrix} =\n",
    "   \\begin{bmatrix}\n",
    "       1 & x_{1,1} & x_{1,2} & ... & x_{1,p} \\\\\n",
    "       1 & x_{2,1} & x_{2,2} & ... & x_{2,p} \\\\\n",
    "       1 & x_{3,1} & x_{3,2} & ... & x_{3,p} \\\\\n",
    "       \\vdots  & \\vdots  & \\vdots & \\ddots & \\vdots  \\\\\n",
    "       1 & x_{n,1} & x_{n,2} & ... & x_{n,p} \\\\\n",
    "    \\end{bmatrix}\n",
    "    \\begin{bmatrix}\n",
    "        \\hat{\\beta_0}\\\\\n",
    "        \\hat{\\beta_1}\\\\\n",
    "        \\hat{\\beta_2}\\\\\n",
    "        \\vdots \\\\\n",
    "        \\hat{\\beta_p}\n",
    "    \\end{bmatrix}$$ \n",
    "            \n",
    "\n",
    "In general, the predicted output ($\\hat{y}$) can be rewritten as:\n",
    "\n",
    "$$\\hat{Y} = X^T \\beta$$\n",
    "\n",
    "How do we fit a linear model to a set of **labeled** training data ($x_1, y_1$) to ($x_n, y_n$)?\n",
    "\n",
    "One method is to make $\\hat{y}$ as close to $y$ as possible (i.e make the predicted outputs as close to the target outputs) for the training examples we have."
   ]
  },
  {
   "cell_type": "markdown",
   "metadata": {},
   "source": [
    "## Least Squares Method\n",
    "\n",
    "\n",
    "The goal is to select the coefficients $\\beta$ is selected to minimise the residual sum of squares or the cost function J:\n",
    "\n",
    "$$\n",
    "\\begin{equation}\n",
    "    J(\\beta) = \\frac{1}{2N} (X^T \\beta - Y)^2\n",
    "\\end{equation}\n",
    "$$\n",
    "\n",
    "$\\frac{1}{2}$ is conveniently added to the front of the equation as the derivative w.r.t beta will give a constant 2, which will be canceled out when multiplied with $\\frac{1}{2}$.\n",
    "\n",
    "1/N so that the mean of the errors are taken."
   ]
  },
  {
   "cell_type": "markdown",
   "metadata": {},
   "source": [
    "## Gradient Descent\n",
    "\n",
    "$$\n",
    "\\begin{equation}\n",
    "\\beta_j := \\beta_j - \\alpha \\frac{\\partial}{\\partial \\beta_j} J(\\beta) \n",
    "\\end{equation}\n",
    "$$\n",
    "\n",
    "Minimising the cost function $J(\\beta)$ first starts by randomly initialising $\\beta$ values.\n",
    "\n",
    "Following that,  $\\beta$ is changed repeatedly over some number of iterations with the goal of making $J(\\beta)$ smaller each iteration.\n",
    "\n",
    "The algorithm terminates when:\n",
    "1. the number of iterations is reached, or \n",
    "2. $J(\\beta)$ does not improve (whichever comes first). \n",
    "\n",
    "In the latter case, a minimum point has been reached.\n",
    "\n",
    "This is performed for all values of j, depending on the number of inputs: so all $\\beta_0$ to $\\beta_p$ will be tuned\n",
    "\n",
    "$\\alpha$ represents the learning rate, or the step length that is used between each update.\n",
    "\n",
    "For one training example, compute the first-order derivative:\n",
    "\n",
    "         \n",
    "\n",
    "\n",
    "This update is performed simultaneously for all values of j, where j ranges from 1 to p for each of the input variables.\n",
    "\n",
    "In general, for **N** number of training examples:\n",
    "\n",
    "$$\n",
    "    \\beta_j := \\beta_j + \\alpha\\sum_{i=1}^{N}\\left( (y_i - x^T_i \\beta) * x^T_j \\right)\n",
    "$$"
   ]
  },
  {
   "cell_type": "markdown",
   "metadata": {},
   "source": [
    "### Batch Gradient Descent (BGD)\n",
    "\n",
    "* Updates weights only after scanning through entire training set. \n",
    "\n",
    "* Costly for large number of samples.\n",
    "\n",
    "Repeat until convergence or number of iterations reached for each feature (j) {\n",
    "\n",
    "$$\n",
    "    \\beta_j := \\beta_j + \\alpha\\sum_{i=1}^{N}\\left( (y_i - x^T_i \\beta) * x^T_j \\right)\n",
    "$$\n",
    "\n",
    "}"
   ]
  },
  {
   "cell_type": "markdown",
   "metadata": {},
   "source": [
    "### Using Normal Equations\n",
    "\n",
    "Alternative to gradient descent method, no iterations and learning rate needed.\n",
    "\n",
    "$\\frac{\\partial}{\\partial \\beta_j} J(\\beta)$ can be rewritten in vector form as:\n",
    "\n",
    "$$ \\frac{\\partial}{\\partial \\beta_j} J(\\beta) =  (Y - X^T \\beta) * X^T_j $$\n",
    "$$ =  X^T_j Y - X^T X^T_j \\beta$$\n",
    "\n",
    "To minimise $J(\\beta)$, we set derivatives $\\frac{\\partial}{\\partial \\beta_j} J(\\beta)$ to 0:\n",
    "\n",
    "$$ 0 =  X^T_j Y - X^T X^T_j \\beta $$\n",
    "$$ X^T_j Y = X^T X^T_j \\beta $$\n",
    "$$ \\beta = (X^T X^T_j)^{-1} X^T_j Y $$\n"
   ]
  },
  {
   "cell_type": "code",
   "execution_count": 1,
   "metadata": {},
   "outputs": [],
   "source": [
    "#Import libraries\n",
    "import numpy as np\n",
    "import pandas as pd\n",
    "\n",
    "#Visualization\n",
    "import matplotlib.pyplot as plt\n",
    "\n",
    "#Validation purposes\n",
    "from sklearn.linear_model import LinearRegression"
   ]
  },
  {
   "cell_type": "code",
   "execution_count": 2,
   "metadata": {},
   "outputs": [],
   "source": [
    "import math\n",
    "\n",
    "class Linear_Regression():\n",
    "    \n",
    "    def __init__(self, n_iterations=100, learning_rate=0.001, threshold=1e-6, grad_descent=True):\n",
    "        self.n_iterations = n_iterations\n",
    "        self.learning_rate = learning_rate\n",
    "        self.threshold = threshold\n",
    "        self.grad_descent = grad_descent\n",
    "        \n",
    "    def initialize_weights(self, n_features):\n",
    "        np.random.seed(123)\n",
    "        self.w = np.random.rand(n_features)\n",
    "\n",
    "    def fit(self, X, y):\n",
    "        \n",
    "        # Insert constant ones for bias weights\n",
    "        X = np.insert(X, 0, 1, axis=1)\n",
    "        \n",
    "        #List of training errors for visualization\n",
    "        self.training_errors = []\n",
    "        \n",
    "        #Initialise weights randomly, number of features should be the number of columns of X\n",
    "        self.initialize_weights(n_features=X.shape[1])\n",
    "        \n",
    "        if (self.grad_descent):\n",
    "            # Gradient descent for n_iterations\n",
    "            # Batch gradient descent: Calculate errors for all training examples, then update weights\n",
    "            for i in range(self.n_iterations):\n",
    "\n",
    "                y_pred = X.dot(self.w)\n",
    "\n",
    "                # Calculate error\n",
    "                mse = np.mean(0.5 * (y - y_pred)**2)\n",
    "\n",
    "                #Append errors to error list\n",
    "                self.training_errors.append(mse)\n",
    "\n",
    "                # Gradient of l2 loss w.r.t w\n",
    "                grad_w = -(y - y_pred).dot(X)\n",
    "\n",
    "                # Update the weights\n",
    "                self.w -= self.learning_rate * grad_w\n",
    "                \n",
    "                #Early stopping\n",
    "                #If difference in MSE does not change pass a set threshold, break out of training\n",
    "                if len(self.training_errors) > 1: #More than one MSE recorded\n",
    "                    if (self.training_errors[-2] - self.training_errors[-1]) <= self.threshold:\n",
    "                        break\n",
    "        else:\n",
    "            #Use normal equations method\n",
    "            self.w = np.linalg.inv(X.T.dot(X)).dot(X.T).dot(y)\n",
    "            \n",
    "\n",
    "    def predict(self, X):\n",
    "        \n",
    "        # Insert constant ones for bias weights\n",
    "        X = np.insert(X, 0, 1, axis=1)\n",
    "        y_pred = X.dot(self.w)\n",
    "        return y_pred"
   ]
  },
  {
   "cell_type": "code",
   "execution_count": 3,
   "metadata": {},
   "outputs": [],
   "source": [
    "from sklearn.datasets import make_regression\n",
    "from sklearn.model_selection import train_test_split\n",
    "\n",
    "X, y = make_regression(n_samples=100, n_features=1, noise=30)\n",
    "\n",
    "X_train, X_test, y_train, y_test = train_test_split(X, y, test_size=0.3)"
   ]
  },
  {
   "cell_type": "code",
   "execution_count": 4,
   "metadata": {
    "scrolled": false
   },
   "outputs": [
    {
     "data": {
      "image/png": "[encoded data removed]",
      "text/plain": [
       "<Figure size 432x288 with 1 Axes>"
      ]
     },
     "metadata": {
      "needs_background": "light"
     },
     "output_type": "display_data"
    }
   ],
   "source": [
    "plt.scatter(X_train, y_train, label = \"Training\")\n",
    "plt.scatter(X_test, y_test, label = \"Testing\")\n",
    "plt.legend()\n",
    "plt.show()"
   ]
  },
  {
   "cell_type": "code",
   "execution_count": 5,
   "metadata": {
    "scrolled": true
   },
   "outputs": [],
   "source": [
    "#Build model\n",
    "#Configure learning rate and number of iterations accordingly\n",
    "model = Linear_Regression(n_iterations = 1000, learning_rate=0.001, grad_descent=True)\n",
    "\n",
    "#Train\n",
    "#Use training data to find best weights that minimises cost function\n",
    "model.fit(X_train, y_train)"
   ]
  },
  {
   "cell_type": "code",
   "execution_count": 6,
   "metadata": {
    "scrolled": true
   },
   "outputs": [
    {
     "data": {
      "image/png": "[encoded data removed]",
      "text/plain": [
       "<Figure size 432x288 with 1 Axes>"
      ]
     },
     "metadata": {
      "needs_background": "light"
     },
     "output_type": "display_data"
    }
   ],
   "source": [
    "# Training error plot\n",
    "n = len(model.training_errors)\n",
    "plt.plot(range(n), model.training_errors, label=\"Training Error\")\n",
    "plt.legend()\n",
    "plt.title(\"Error Plot\")\n",
    "plt.ylabel('Mean Squared Error')\n",
    "plt.xlabel('Iterations')\n",
    "plt.show()"
   ]
  },
  {
   "cell_type": "code",
   "execution_count": 7,
   "metadata": {},
   "outputs": [
    {
     "name": "stdout",
     "output_type": "stream",
     "text": [
      "Mean squared error: 880.3342072078809\n"
     ]
    }
   ],
   "source": [
    "def mean_squared_error(y_true, y_pred):\n",
    "    mse = np.mean((y_true - y_pred)**2)\n",
    "    return mse\n",
    "\n",
    "#Based on trained weights, predict test set\n",
    "y_pred = model.predict(X_test)\n",
    "\n",
    "#Error between predicted outputs and target values\n",
    "mse = mean_squared_error(y_test, y_pred)\n",
    "print (\"Mean squared error: %s\" %mse)"
   ]
  },
  {
   "cell_type": "code",
   "execution_count": 8,
   "metadata": {},
   "outputs": [],
   "source": [
    "#Using Normal Equations Method (grad desc = False)\n",
    "#Rest of arguments don't matter\n",
    "model_norm = Linear_Regression(grad_descent=False)\n",
    "\n",
    "#Train\n",
    "model_norm.fit(X_train, y_train)"
   ]
  },
  {
   "cell_type": "code",
   "execution_count": 9,
   "metadata": {},
   "outputs": [
    {
     "name": "stdout",
     "output_type": "stream",
     "text": [
      "Mean squared error using Normal Equations: 880.3293079484121\n"
     ]
    }
   ],
   "source": [
    "#Based on trained weights, predict test set\n",
    "y_pred_norm = model_norm.predict(X_test)\n",
    "\n",
    "#Error between predicted outputs and target values\n",
    "mse_norm = mean_squared_error(y_test, y_pred_norm)\n",
    "print (\"Mean squared error using Normal Equations: %s\" %mse_norm)"
   ]
  },
  {
   "cell_type": "code",
   "execution_count": 10,
   "metadata": {},
   "outputs": [
    {
     "data": {
      "text/plain": [
       "<matplotlib.legend.Legend at 0x219fde859d0>"
      ]
     },
     "execution_count": 10,
     "metadata": {},
     "output_type": "execute_result"
    },
    {
     "data": {
      "image/png": "[encoded data removed]",
      "text/plain": [
       "<Figure size 1080x432 with 2 Axes>"
      ]
     },
     "metadata": {
      "needs_background": "light"
     },
     "output_type": "display_data"
    }
   ],
   "source": [
    "fig, (ax1, ax2) = plt.subplots(1, 2, figsize=(15, 6))\n",
    "ax1.scatter(X_train, y_train, label = \"Training\")\n",
    "ax1.scatter(X_test, y_test, label = \"Testing\")\n",
    "ax1.plot(X_test, y_pred_norm, color='black', linewidth=2, label=\"Prediction\")\n",
    "ax1.set_title(\"Linear Regression using Gradient Descent\" + \"\\nMSE: %.2f\" % mse)\n",
    "ax1.legend()\n",
    "\n",
    "ax2.scatter(X_train, y_train, label = \"Training\")\n",
    "ax2.scatter(X_test, y_test, label = \"Testing\")\n",
    "ax2.plot(X_test, y_pred_norm, color='black', linewidth=2, label=\"Prediction\")\n",
    "ax2.set_title(\"Linear Regression using Normal Equations\" + \"\\nMSE: %.2f\" % mse_norm)\n",
    "\n",
    "ax2.legend()"
   ]
  },
  {
   "cell_type": "markdown",
   "metadata": {},
   "source": [
    "### Validation with Sklearn"
   ]
  },
  {
   "cell_type": "code",
   "execution_count": 11,
   "metadata": {},
   "outputs": [
    {
     "data": {
      "text/plain": [
       "LinearRegression()"
      ]
     },
     "execution_count": 11,
     "metadata": {},
     "output_type": "execute_result"
    }
   ],
   "source": [
    "sk_model = LinearRegression()\n",
    "\n",
    "sk_model.fit(X_train, y_train)"
   ]
  },
  {
   "cell_type": "code",
   "execution_count": 12,
   "metadata": {},
   "outputs": [
    {
     "name": "stdout",
     "output_type": "stream",
     "text": [
      "Mean squared error: 880.329307948412\n"
     ]
    }
   ],
   "source": [
    "sk_pred = sk_model.predict(X_test)\n",
    "mse_sk = mean_squared_error(y_test, sk_pred)\n",
    "print (\"Mean squared error: %s\" %mse_sk)"
   ]
  },
  {
   "cell_type": "markdown",
   "metadata": {},
   "source": [
    "Comparable results achieved with sklearn MSE.\n",
    "\n",
    "Changing the number of iterations of gradient descent will change the MSE."
   ]
  },
  {
   "cell_type": "markdown",
   "metadata": {},
   "source": [
    "### References\n",
    "[1] CS229 Stanford University Notes. By Andrew Ng \n",
    "\n",
    "[2] ML-From-Scratch. https://github.com/eriklindernoren/ML-From-Scratch\n",
    "\n",
    "[3] Elements of Statistical Learning. By Jerome H. Friedman, Robert Tibshirani, and Trevor Hastie\n",
    "\n"
   ]
  }
 ],
 "metadata": {
  "kernelspec": {
   "display_name": "Python 3",
   "language": "python",
   "name": "python3"
  },
  "language_info": {
   "codemirror_mode": {
    "name": "ipython",
    "version": 3
   },
   "file_extension": ".py",
   "mimetype": "text/x-python",
   "name": "python",
   "nbconvert_exporter": "python",
   "pygments_lexer": "ipython3",
   "version": "3.8.5"
  }
 },
 "nbformat": 4,
 "nbformat_minor": 2
}
