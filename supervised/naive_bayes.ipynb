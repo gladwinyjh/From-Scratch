{
 "cells": [
  {
   "cell_type": "markdown",
   "id": "5d443b5c",
   "metadata": {},
   "source": [
    "# Naive Bayes Classifier\n",
    "\n",
    "### The following few portions will be referencing resources mainly from Kilian Weinberger's materials from CS4780 [1] and Tom M.Mitchell's Machine Learning book [2] .\n",
    "\n",
    "\n",
    "The primary goal of classification is to predict the label $y$ from a set of given features $X$. Given that we do not know the underlying distribution of $P(X,Y)$, we can only draw  $n$ samples from this distribution into our training set $D$, then estimate $P(Y|X)$ by the following according the conditional probability formula:\n",
    "\n",
    "$$\n",
    "\\hat{P}(y|\\mathbf{x}) = \n",
    "\\frac{\\hat{P}(y,\\mathbf{x})}{P(\\mathbf{x})} = \n",
    "\\frac{\\sum_{i=1}^{n} \\frac{I(\\mathbf{x}_i = \\mathbf{x} \\wedge {y}_i = y)}{n}} { \\sum_{i=1}^{n} \\frac{I(\\mathbf{x}_i = \\mathbf{x})}{n}} =\n",
    "\\frac{\\sum_{i=1}^{n} I(\\mathbf{x}_i = \\mathbf{x} \\wedge {y}_i = y)}{ \\sum_{i=1}^{n} I(\\mathbf{x}_i = \\mathbf{x})}\n",
    "$$\n",
    "\n",
    "where $I(\\mathbf{x}_i = \\mathbf{x} \\wedge {y}_i = y) = 1$ if $x_i = x$ and $y_i = y$, and $0$ otherwise.\n",
    "\n",
    "The problem with estimating probabilities this way is that it can be difficult when $x$ exists in a high dimensional space, or when x is continuous.\n",
    "\n",
    "#### Example: \n",
    "\n",
    "If we want to determine whether a person in a university is a student, it is easy to estimate $P(x)$ and $P(y,x)$ if the number of features we want to examine is small. \n",
    "If we were to only use 'age over or under 35' as a feature (1-D space binary feature), $P(x)$ can be estimated from our sample of $n$ samples simply by counting the number of people under the age of 35, and divide it by the number of people sampled $n$. Similarly, $P(y,x)$ can be estimated by counting the number of people with age less than 35 given that they are students.\n",
    "\n",
    "However, if the number of features were to be added, estimating probabilities can be difficult. Take the extreme, we use each pixels in the person's potrait to determine if the person is a student. We will not be able to estimate $P(x)$ because we will not be able to achieve a standard for the pixel intensities a student should have. Given that it is pretty unlikely that no 2 people will look alike, $P(x)$ will be 0 and $P(y,x)$ will be 0. Similarly, if we were to use an actual age (down to the exact birth date) as a feature instead of an over under age as a feature, it will also be unlikely that someone will be found in our dataset.\n",
    "\n",
    "To approach this dilemma, we use Naive Bayes to simplify the problem."
   ]
  },
  {
   "cell_type": "markdown",
   "id": "f644e4a6",
   "metadata": {},
   "source": [
    "## Naive Bayes\n",
    "\n",
    "From Bayes rule,\n",
    "\n",
    "$$\n",
    "P(y | \\mathbf{x}) = \\frac{P(\\mathbf{x} | y)P(y)}{P(\\mathbf{x})}\n",
    "$$\n",
    "\n",
    "It is also known as:\n",
    "\n",
    "$$\n",
    "\\text {Posterior} = \\frac{\\text{Likelihood} * \\text{Prior}} {\\text{Evidence}}\n",
    "$$\n",
    "\n",
    "\n",
    "Estimating $P(y)$ can be easily done. Using the example from above, we can estimate the number of people that are students ($c$) simply by going through the dataset and counting how many of them are actually students $(y_i = c)$:\n",
    "\n",
    "$$\n",
    "P(y = c)  = \\frac{\\sum_{i=1}^{n} I(y_i = c)}{n} = \\hat\\pi_c \\tag{1}\n",
    "$$\n",
    "\n",
    "The Naive Bayes algorithm makes estimating $P(x|y)$ easy by making the assumption that each feature $X = <X_1, ..., X_n >$ are conditionally independent from each other for the given label $y = c$. For the case of $X = <X_1, X_2 >$, this simplifies $P(\\mathbf{x} | y)$ to based on conditional independence:\n",
    "\n",
    "\\begin{align}\n",
    "    P(X | y=c) &= P(X_1, X_2 | y=c) \\\\\n",
    "               &= P(X_1| y=c)P(X_2| y=c)\n",
    "\\end{align}\n",
    "\n",
    "In general for d-dimensional feature vector,\n",
    "\n",
    "$$\n",
    "P(X | y=c) = \\prod_{i = 1}^{d} P(X_i | y=c)\n",
    "$$\n",
    "\n",
    "The Bayes classifier can then be defined as:\n",
    "\n",
    "\\begin{align}\n",
    "    h(\\mathbf{x}) &= \\operatorname*{argmax}_{y=c} P(y | \\mathbf{x}) \\\\ \n",
    "                  &= \\operatorname*{argmax}_{y=c} \\; \\frac{P(\\mathbf{x} | y=c)P(y=c)}{P(\\mathbf{x})} \\\\ \n",
    "                  &= \\operatorname*{argmax}_{y=c} \\; P(\\mathbf{x} | y=c) P(y=c) && \\text{($P(\\mathbf{x})$ removed because it does not depend on $y$)} \\\\ \n",
    "                  &= \\operatorname*{argmax}_{y=c} \\; \\prod_{i=1}^{d} P(x_i | y=c) P(y=c) && \\text{(by the Naive Bayes assumption)}\\\\ \n",
    "                  &= \\operatorname*{argmax}_{y=c} \\; \\sum_{i = 1}^{d} \\log(P(x_i | y=c)) + \\log(P(y=c)) && \\text{(as log is a monotonic function)}\n",
    "\\end{align}\n",
    "\n",
    "In reality, we know that Naive Bayes assumption of conditionally independent features often do not hold true. Going back to the example above, 2 possible features that are not conditionally independent, given that the chosen person is a student, are net worth and age. Students who are younger typically have a lower net worth.\n",
    "\n",
    "Assuming that Naive Bayes assumption is true, estimating $log(P(x_i | y))$ is easier given that only one dimension for feature will need to be considered."
   ]
  },
  {
   "cell_type": "markdown",
   "id": "e9f6faf9",
   "metadata": {},
   "source": [
    "### Case #1: Categorical features\n",
    "\n",
    "Case #1 involves features that each take on $J$ possible discrete values, for a given label $y = c$.\n",
    "\n",
    "Example: Given that person chosen is a student, feature 1: gender (J=2 for binary, gender when born, not currently identifying as), feature 2: faculty (J=10-20? depending on university).\n",
    "\n",
    "$$\n",
    "\\theta_{ijc} = P(X_i = x_{ij} | y = c)\\\\\n",
    "\\text{ and }\\sum_{j=1}^{J} \\theta_{ijc} = 1\n",
    "$$\n",
    "\n",
    "where $\\theta_{ijc}$ refers to the probability of feature i taking on value j, given that the label is c.\n",
    "\n",
    "Probability $\\theta_{ijc}$ can be estimated as:\n",
    "\n",
    "$$\n",
    "\\hat\\theta_{ijc} = \\frac{\\sum_{i=1}^{n} I(y_i = c) I(x_{ij} = j) + l}{\\sum_{i=1}^{n} I(y_i = c) + lJ}\n",
    "$$\n",
    "\n",
    "where $l$ refers to the smoothing parameter.\n",
    "\n",
    "$$\n",
    "\\text{Estimate} = \\begin{cases} \n",
    "                      \\text{MLE} & l=0 \\\\\n",
    "                      \\text{Laplace smoothing} & l=+1 \\\\\n",
    "                      \\text{MAP} & l>0,l\\neq +1\n",
    "                   \\end{cases}\n",
    "$$\n",
    "\n",
    "The Naive Bayes classifier comes to:\n",
    "\n",
    "\\begin{align}\n",
    "h(\\mathbf{x}) &= \\operatorname*{argmax}_{y=c} \\; \\prod_{i=1}^{d} P(x_i | y=c) P(y=c) \\\\\n",
    "              &\\propto \\operatorname*{argmax}_{y=c} \\; \\prod_{i=1}^{d} \\hat\\theta_{ijc} \\hat\\pi_c\n",
    "\\end{align}\n"
   ]
  },
  {
   "cell_type": "markdown",
   "id": "be24747b",
   "metadata": {},
   "source": [
    "### Case #2: Multinomial features\n",
    "\n",
    "Case #2 involves features that each take on its count/frequency for a given label $y = c$.\n",
    "\n",
    "Example: In word documents, the feature vector is really just a dictionary, where the index of this vector refers to a particular word in the english dictionary, and the value at that index refers to the frequency in which that word occurs in a document. Given that the documents that have been given the label as 'confidential', we can identify commonly encounted words as features belonging to 'confidential' documents. \n",
    "\n",
    "$$\n",
    "\\hat\\theta_{jc} = \\frac{\\sum_{i = 1}^{n} I(y_i = c) x_{ij} + l}{\\sum_{i=1}^{n} I(y_i = c) m_i + l \\cdot d }\n",
    "$$\n",
    "\n",
    "where $x_{ij}$ refers to the number of times a particular word has appeared in the $i^{th}$ document, and $m_i$ refers to the total number of words drawn from that same document. $\\hat\\theta_{jc}$ refers to the estimated probability that a given word i will appear given that it's document has been classified as $y = c$.\n",
    "\n",
    "For a given document i, given that $m_i$ words are drawn, the number of counts of a particular word j:\n",
    "\n",
    "$$\n",
    "x_{ij} \\in \\{0, 1, 2, ..., m\\}\n",
    "$$\n",
    "\n",
    "The multinomial Naive Bayes classifier comes to:\n",
    "\n",
    "$$\n",
    "h(\\mathbf{x}) \\propto \\operatorname*{argmax}_{y=c} \\; \\prod_{i=1}^{d} \\hat\\theta_{ijc} \\hat\\pi_c\n",
    "$$"
   ]
  },
  {
   "cell_type": "markdown",
   "id": "0e676d9a",
   "metadata": {},
   "source": [
    "### Case #3: Continuous features (Gaussian Naive Bayes)\n",
    "\n",
    "Case #3 involves features that take on continuous values, with each feature $j$ assumed to be drawn its own independent Gaussian distribution with its own mean $\\mu_{jc}$ and variance $\\sigma_{jc}^2$\n",
    "\n",
    "$$\n",
    "P(x_j \\mid y=c) = \\mathcal{N}\\left(\\mu_{jc}, \\sigma^{2}_{jc}\\right) = \\frac{1}{\\sqrt{2 \\pi} \\sigma_{jc}} e^{-\\frac{1}{2} \\left(\\frac{x_j - \\mu_{jc}}{\\sigma_{jc}}\\right)^2} \\tag{2}\n",
    "$$\n",
    "\n",
    "The parameters that requires estimatation are the mean and the variance:\n",
    "\n",
    "\\begin{align}\n",
    "\\mu_{jc} &\\leftarrow \\frac{1}{n_c} \\sum_{i = 1}^{n} I(y_i = c) x_{ij} && \\text{where $n_c = \\sum_{i=1}^{n} I(y_i = c)$} \\\\\n",
    "\\sigma_{jc}^2 &\\leftarrow \\frac{1}{n_c} \\sum_{i=1}^{n} I(y_i = c)(x_{ij} - \\mu_{jc})^2 \n",
    "\\end{align}\n",
    "\n",
    "The multinomial Naive Bayes classifier comes to:\n",
    "\n",
    "$$\n",
    "h(\\mathbf{x}) \\propto \\operatorname*{argmax}_{y=c} \\; \\prod_{j=1}^{d}\\frac{1}{\\sqrt{2 \\pi} \\sigma_{jc}} e^{-\\frac{1}{2} \\left(\\frac{x_j - \\mu_{jc}}{\\sigma_{jc}}\\right)^2}  \\hat\\pi_c\n",
    "$$"
   ]
  },
  {
   "cell_type": "markdown",
   "id": "0a033339",
   "metadata": {},
   "source": [
    "### GNB algorithm below adapted from: https://github.com/eriklindernoren/ML-From-Scratch/blob/master/mlfromscratch/supervised_learning/naive_bayes.py"
   ]
  },
  {
   "cell_type": "code",
   "execution_count": 1,
   "id": "5b0bee4a",
   "metadata": {},
   "outputs": [],
   "source": [
    "import numpy as np\n",
    "import math\n",
    "\n",
    "\n",
    "class GaussianNaiveBayes:\n",
    "    \n",
    "    \"\"\"\n",
    "    In general, Naive Bayes need to find Likelihood(2), Prior(1) terms to get the Posterior term \n",
    "    For GNB, this values will be dependent on the mean and var of each feature\n",
    "    \"\"\"\n",
    "    \n",
    "    def find_likelihood(self, param, c, x): \n",
    "        \"\"\" \n",
    "        Likelihood = Normal distribution formula\n",
    "        \"\"\"\n",
    "        mean, var = param[0], param[1]\n",
    "        numer = math.exp(-0.5 * ((x - mean)**2 / var))\n",
    "        denom = math.sqrt(2 * math.pi * var)\n",
    "        \n",
    "        return numer / denom\n",
    "    \n",
    "    \n",
    "    def find_prior(self, c): \n",
    "        \"\"\" \n",
    "        Prior = Number of samples with y == c / Total number of samples \n",
    "        \"\"\"\n",
    "        return np.mean(self.y == c)\n",
    "    \n",
    "    \n",
    "    def fit(self, X, y):\n",
    "        self.x = X\n",
    "        self.y = y\n",
    "        self.n = len(y)\n",
    "        \n",
    "        self.dict = {}\n",
    "        \n",
    "        # Find the different possible labels\n",
    "        #Assumes that each label has at least a sample collected\n",
    "        self.labels = np.unique(y) \n",
    "        \n",
    "        #Go through each label\n",
    "        #For that label, get the samples where y == that label\n",
    "        for c in self.labels:\n",
    "            X_c = X[np.where(self.y == c)]\n",
    "            \n",
    "            #X_c consists of a matrix where each row correspond to the sample with label == c\n",
    "            #and each column corresponding to the different features\n",
    "            #Need to calculate the mean and variance of each feature, or the mean and variance of each column\n",
    "            #Each dictionary key corresponds to a label\n",
    "            #The index of each element in the dictionary value corresponds to a feature\n",
    "            #Each element is stored as (mean, feature)\n",
    "            for feature in X_c.T:\n",
    "                if c not in self.dict: #If first feature\n",
    "                    self.dict[c] = [(np.mean(feature), np.var(feature))]\n",
    "                else:\n",
    "                    self.dict[c].append((np.mean(feature), np.var(feature)))\n",
    "    \n",
    "    \n",
    "    def predict(self, X):\n",
    "        \n",
    "        y_pred = []\n",
    "        \n",
    "        for sample in X:\n",
    "        \n",
    "            posteriors = []\n",
    "\n",
    "            for c in self.labels:\n",
    "\n",
    "                prior = self.find_prior(c)\n",
    "\n",
    "                for i in range(len(self.dict[c])):\n",
    "                    likelihood = self.find_likelihood(self.dict[c][i], c, sample[i])\n",
    "                    prior *= likelihood\n",
    "\n",
    "                posteriors.append(prior)\n",
    "            \n",
    "            y_pred.append(np.argmax(posteriors))\n",
    "    \n",
    "        return np.array(y_pred)"
   ]
  },
  {
   "cell_type": "code",
   "execution_count": 2,
   "id": "2f494714",
   "metadata": {},
   "outputs": [
    {
     "data": {
      "image/png": "[encoded data removed]",
      "text/plain": [
       "<Figure size 864x720 with 1 Axes>"
      ]
     },
     "metadata": {},
     "output_type": "display_data"
    }
   ],
   "source": [
    "import matplotlib.pyplot as plt\n",
    "import seaborn as sns\n",
    "import numpy as np\n",
    "\n",
    "from sklearn.datasets import make_classification, make_blobs\n",
    "from scipy.stats import multivariate_normal\n",
    "\n",
    "X, y = make_blobs(n_samples=100, n_features=2, centers=2, cluster_std=2.0, random_state=123)\n",
    "\n",
    "with plt.style.context('seaborn-darkgrid'):\n",
    "    fig = plt.figure(figsize=(12,10))\n",
    "    \n",
    "    plt.scatter(x=X[:][y == 0][:, 0], y=X[:][y == 0][:, 1], edgecolor='k', linewidth=1, label='y = 0')\n",
    "    plt.scatter(x=X[:][y == 1][:, 0], y=X[:][y == 1][:, 1], edgecolor='k', linewidth=1, label='y = 1')\n",
    "\n",
    "    plt.legend()"
   ]
  },
  {
   "cell_type": "code",
   "execution_count": 3,
   "id": "c2bcbda2",
   "metadata": {},
   "outputs": [],
   "source": [
    "model = GaussianNaiveBayes()\n",
    "model.fit(X, y)"
   ]
  },
  {
   "cell_type": "markdown",
   "id": "114c90b7",
   "metadata": {},
   "source": [
    "### Decision boundary plot "
   ]
  },
  {
   "cell_type": "code",
   "execution_count": 4,
   "id": "7a3c2844",
   "metadata": {
    "scrolled": false
   },
   "outputs": [
    {
     "data": {
      "text/plain": [
       "<matplotlib.legend.Legend at 0x7faf8851ba00>"
      ]
     },
     "execution_count": 4,
     "metadata": {},
     "output_type": "execute_result"
    },
    {
     "data": {
      "image/png": "[encoded data removed]",
      "text/plain": [
       "<Figure size 864x720 with 1 Axes>"
      ]
     },
     "metadata": {
      "needs_background": "light"
     },
     "output_type": "display_data"
    }
   ],
   "source": [
    "fig, ax = plt.subplots(figsize=(12, 10))\n",
    "\n",
    "x_min, x_max = X[:, 0].min() - .5, X[:, 0].max() + .5\n",
    "y_min, y_max = X[:, 1].min() - .5, X[:, 1].max() + .5\n",
    "\n",
    "h = 0.02 #Step size in mesh\n",
    "xx, yy = np.meshgrid(np.arange(x_min, x_max, h), np.arange(y_min, y_max, h))\n",
    "\n",
    "Z = model.predict(np.c_[xx.ravel(), yy.ravel()])\n",
    "Z = Z.reshape(xx.shape)\n",
    "\n",
    "cset = ax.contourf(xx, yy, Z, colors=['tab:blue', 'tab:orange'], levels=np.arange(Z.max() + 2) - 0.5, alpha=0.2)\n",
    "\n",
    "ax1 = plt.scatter(x=X[:][y == 0][:, 0], y=X[:][y == 0][:, 1], edgecolor='k', linewidth=1, label='y=0')\n",
    "ax2 = plt.scatter(x=X[:][y == 1][:, 0], y=X[:][y == 1][:, 1], edgecolor='k', linewidth=1, label='y=1')\n",
    "ax3 = ax.contour(xx, yy, Z, cset.levels, colors='k', linewidths=1, antialiased=True)\n",
    "plt.title('Decision Boundary', fontsize=15)\n",
    "plt.legend()"
   ]
  },
  {
   "cell_type": "markdown",
   "id": "8afc7e9d",
   "metadata": {},
   "source": [
    "### References\n",
    "[1] CS4780/CS5780: Machine Learning for Intelligent Systems. Kilian Weinberger, 2017. https://www.cs.cornell.edu/courses/cs4780/2018fa/lectures/lecturenote05.html\n",
    "\n",
    "[2] Chapter 3 Generative and Discriminative Classifiers: Naive Bayes and Logisitic Regression. Tom M. Mitchell, 2017. Machine Learning. http://www.cs.cmu.edu/∼tom/mlbook/NBayesLogReg.pdf"
   ]
  }
 ],
 "metadata": {
  "kernelspec": {
   "display_name": "Python 3",
   "language": "python",
   "name": "python3"
  },
  "language_info": {
   "codemirror_mode": {
    "name": "ipython",
    "version": 3
   },
   "file_extension": ".py",
   "mimetype": "text/x-python",
   "name": "python",
   "nbconvert_exporter": "python",
   "pygments_lexer": "ipython3",
   "version": "3.8.5"
  }
 },
 "nbformat": 4,
 "nbformat_minor": 5
}
